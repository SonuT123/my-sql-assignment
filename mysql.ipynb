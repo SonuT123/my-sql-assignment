{
 "cells": [
  {
   "cell_type": "markdown",
   "id": "c19f522c-205e-4245-ad4d-5f0de7f3f83a",
   "metadata": {},
   "source": [
    "Q1. What is a database? Differentiate between SQL and NoSQL databases."
   ]
  },
  {
   "cell_type": "raw",
   "id": "e8c760d1-91e1-48b0-80ae-1390471f2403",
   "metadata": {},
   "source": [
    " Database:-A database is a collection of data that is organized so that it can be easily accessed,\n",
    "           managed, and updated. Databases are used to store all sorts of data, from customer records\n",
    "           to product inventory to financial transactions.\n",
    "           \n",
    "           \n",
    " Differentiate:- (1)SQL Databases (Relational Databases):  \n",
    "                                 SQL Structured Query Language databases are relational databases, which means that data\n",
    "                                 is stored in tables that\n",
    "                                 are linked together by common fields.\n",
    "                 \n",
    "                (2)NoSQL:-number of Structured Query Language :-\n",
    "                         NoSQL databases are non-relational databases, which means that data is stored in a \n",
    "                         variety of ways, such as key-value pairs, documents, or graphs.\n",
    "                        \n",
    "                        \n",
    "                        \n",
    "              Feature\t                                     SQL\t                                   NoSQL\n",
    "             Data model                                    Relational\t                             Non-relational\n",
    "             Schema                                        Predefined\t                             Dynamic\n",
    "             Queries\t                                     SQL                                    \t Custom languages\n",
    "             Scalability                                   Vertical\t                             Horizontal\n",
    "             Use cases\t                                 Structured data, transactions\tUnstructured data, real-time applications\n",
    "          "
   ]
  },
  {
   "cell_type": "markdown",
   "id": "9f2c377c-bc5e-454b-acaf-adf981f19557",
   "metadata": {},
   "source": [
    "Q2. What is DDL? Explain why CREATE, DROP, ALTER, and TRUNCATE are used with an example."
   ]
  },
  {
   "cell_type": "raw",
   "id": "1ae41efd-e48e-4af5-82c6-48bdb35d6fa0",
   "metadata": {},
   "source": [
    " DDL:-DDL stands for Data Definition Language. \n",
    "                                It is a set of commands used to define the structure of a database.\n",
    "                                DDL commands are used to create, modify, and drop database objects, \n",
    "                                such as tables, views, and indexes."
   ]
  },
  {
   "cell_type": "raw",
   "id": "72306693-b877-408b-abea-1430c3d79f31",
   "metadata": {},
   "source": [
    " CREATE:\n",
    "        The CREATE command is used to create a new database object.\n",
    "        For example, to create a table named \"Employees\" with columns\n",
    "        for ID, Name, and Salary\n",
    "        \n",
    "CREATE TABLE customers (\n",
    "  id INT PRIMARY KEY,\n",
    "  name VARCHAR(255),\n",
    "  email VARCHAR(255)\n",
    ");"
   ]
  },
  {
   "cell_type": "raw",
   "id": "380c1ceb-6775-4557-b25b-5056b9568f15",
   "metadata": {},
   "source": [
    " DROP:-\n",
    "     This command is used to delete database objects. \n",
    "         DROP TABLE Employees;"
   ]
  },
  {
   "cell_type": "raw",
   "id": "039677f2-5fe6-4689-bb21-27789c47e3d3",
   "metadata": {},
   "source": [
    " ALTER:-\n",
    "     This command is used to modify existing database objects.\n",
    "        ALTER TABLE customers ADD COLUMN phone_number VARCHAR(255);"
   ]
  },
  {
   "cell_type": "raw",
   "id": "c5eff21a-50de-4e9c-803b-12e211f8867a",
   "metadata": {},
   "source": [
    " TRUNCATE:-\n",
    "    This command is used to delete all rows from a table.\n",
    "    However, it does not delete the table itself.\n",
    "    TRUNCATE TABLE Employees;"
   ]
  },
  {
   "cell_type": "markdown",
   "id": "edf0d58b-bc44-49a8-addb-04153dd65561",
   "metadata": {},
   "source": [
    "Q3. What is DML? Explain INSERT, UPDATE, and DELETE with an example."
   ]
  },
  {
   "cell_type": "raw",
   "id": "76c124e9-848e-4fc7-9ae5-841a75e44ebd",
   "metadata": {},
   "source": [
    "  DML:- stands for Data Manipulation Language. It is a subset of SQL commands used\n",
    "        to manipulate and retrieve data within a database."
   ]
  },
  {
   "cell_type": "raw",
   "id": "cb1c44b4-08b1-4510-a70d-70e61309b5e8",
   "metadata": {},
   "source": [
    "  INSERT:-INSERT command is used to add new rows of data into a table.\n",
    "          It allows you to specify the values to be inserted into specific columns.\n",
    "          \n",
    "          INSERT INTO Employees (ID, Name, Salary)\n",
    "          VALUES (1, 'John Doe', 5000);"
   ]
  },
  {
   "cell_type": "raw",
   "id": "550857d8-1caa-4c47-bf11-aac3f97d5690",
   "metadata": {},
   "source": [
    "  UPDATE:- UPDATE command is used to modify existing data in a table.\n",
    "          It allows you to update specific columns of one or more rows based on specified conditions.\n",
    "          \n",
    "          UPDATE Employees\n",
    "          SET Salary = 6000\n",
    "          WHERE ID = 1;"
   ]
  },
  {
   "cell_type": "raw",
   "id": "87942333-56e4-437d-a418-00cd2a1467be",
   "metadata": {},
   "source": [
    "  DELETE:-DELETE command is used to remove one or more rows from a table based on \n",
    "          specified conditions. It permanently deletes the selected rows from the table\n",
    "          \n",
    "          DELETE FROM Employees\n",
    "          WHERE ID = 1;"
   ]
  },
  {
   "cell_type": "raw",
   "id": "6a29383a-e117-4ecd-8b67-efece256fe48",
   "metadata": {},
   "source": [
    "Q4. What is DQL? Explain SELECT with an example."
   ]
  },
  {
   "cell_type": "raw",
   "id": "03d93e6c-99a9-40f6-9138-638d712dad0b",
   "metadata": {},
   "source": [
    "  DQL:- stands for Data Query Language. It is a set of commands used to retrieve data\n",
    "        from a database. DQL commands are used to           \n",
    "        select, insert, update, and delete data from tables.\n",
    "        \n",
    "        \n",
    "        DQL is primarily associated with the SELECT statement, which allows you to\n",
    "        retrieve specific data from one or more database tables based on specified\n",
    "        \n",
    "        SELECT statement is used to query data from a table or multiple tables in\n",
    "        a database. It allows you to specify the columns to be selected,\n",
    "        apply filters and conditions, perform \n",
    "        \n",
    "        SELECT column1, column2, ...\n",
    "        FROM table_name\n",
    "        WHERE condition;"
   ]
  },
  {
   "cell_type": "raw",
   "id": "8430577f-f06a-4fa8-8753-77a36c35b795",
   "metadata": {},
   "source": [
    "    example where we have a table named \"Employees\" with columns such as ID, Name, Age,\n",
    "           and Salary. We want to retrieve the names and salaries of employees who are above\n",
    "           the age of 30. The SELECT statement for this scenario would be:"
   ]
  },
  {
   "cell_type": "raw",
   "id": "c47e5a2a-bd6b-4e5e-b07d-4787b2f9726d",
   "metadata": {},
   "source": [
    "       SELECT Name, Salary\n",
    "       FROM Employees\n",
    "       WHERE Age > 30;\n",
    "       \n",
    "       statement selects the Name and Salary columns from the \"Employees\" table where the Age \n",
    "            is greater than 30. The result would be a set of rows that match the specified condition,\n",
    "            containing the names and salaries of employees who are above 30 years old\n"
   ]
  },
  {
   "cell_type": "markdown",
   "id": "9b6ebcea-2468-46ba-ae9b-39f1366eab6f",
   "metadata": {},
   "source": [
    "Q5. Explain Primary Key and Foreign Key."
   ]
  },
  {
   "cell_type": "raw",
   "id": "b3a5a6d3-5844-4e9d-b47d-7263ae0fcbae",
   "metadata": {},
   "source": [
    "  Primary Key:-\n",
    "    primary key is a column or a combination of columns that uniquely identifies a row in a table.\n",
    "    A primary key must be unique and cannot contain null values.\n",
    "    \n",
    "    \n",
    "       1. Uniqueness: Each value in the primary key column(s) must be unique, ensuring that\n",
    "        no two records in the table have the same primary key value.\n",
    "\n",
    "      2. Non-nullability: The primary key column(s) cannot contain null values. \n",
    "        Each record must have a valid value for the primary key.\n",
    "\n",
    "     3.  Immutability: The primary key values should not change over time.\n",
    "       It should be a stable and unchanging identifier for the record.\n",
    "\n",
    "     4.  Single-value constraint: A primary key can consist of one or more columns,\n",
    "       but the combination of values should be unique for each record.\n",
    "             \n",
    "             \n",
    "             \n",
    "             primary key plays a crucial role in establishing relationships between tables\n",
    "             and enforcing data integrity. It is used as a reference by foreign keys in other \n",
    "             tables to maintain referential integrity.\n",
    "             \n",
    "             \n",
    "             \n",
    "             \n",
    "             \n",
    "    Foreign Key:- foreign key is a column or a combination of columns in a database table that establishes\n",
    "             a link or relationship between two tables. It refers to the primary key in another table,\n",
    "             creating a relationship between the two tables. The purpose of a foreign key is to enforce\n",
    "             referential integrity and ensure that the data in the referencing table matches the data in\n",
    "             the referenced table. Key characteristics of a foreign key \n",
    "             \n",
    "             \n",
    "             \n",
    "             \n",
    "              1.  Referential Integrity: The foreign key ensures that the values in the referencing \n",
    "                column(s) match the values in the referenced primary key column(s). It helps maintain \n",
    "                consistency and prevents orphaned records.\n",
    "\n",
    "              2. Relationship Establishment: By referencing the primary key of another table, \n",
    "               the foreign key establishes a relationship between the two tables.\n",
    "               It represents the association or dependency between related data.\n",
    "\n",
    "              3. Multiple Occurrences: A foreign key can occur multiple times in a table,\n",
    "               indicating a one-to-many or many-to-many relationship between the tables.\n",
    "\n",
    "             4. Nullable Constraint: While a foreign key is typically non-null,\n",
    "              it can also allow null values. This indicates that a relationship may not exist or is optional. "
   ]
  },
  {
   "cell_type": "markdown",
   "id": "670186fb-d958-422e-bfee-f79aca286a81",
   "metadata": {},
   "source": [
    "Q6. Write a python code to connect MySQL to python. Explain the cursor() and execute() method."
   ]
  },
  {
   "cell_type": "raw",
   "id": "2a9e0653-7d3e-434a-9617-ab152b6d484a",
   "metadata": {},
   "source": [
    "import mysql.connector\n",
    "\n",
    "def connect_to_mysql():\n",
    "    \"\"\"Connect to MySQL database.\"\"\"\n",
    "    connection = mysql.connector.connect(\n",
    "        host=\"localhost\",\n",
    "        user=\"root\",\n",
    "        password=\"password\",\n",
    "        database=\"my_database\"\n",
    "    )\n",
    "    return connection\n",
    "\n",
    "def execute_query(connection, query):\n",
    "    \"\"\"Execute a SQL query.\"\"\"\n",
    "    cursor = connection.cursor()\n",
    "    cursor.execute(query)\n",
    "    return cursor\n",
    "\n",
    "def main():\n",
    "    \"\"\"Connect to MySQL and execute a query.\"\"\"\n",
    "    connection = connect_to_mysql()\n",
    "    cursor = execute_query(connection, \"SELECT * FROM customers\")\n",
    "    for row in cursor:\n",
    "        print(row)\n",
    "\n",
    "if __name__ == \"__main__\":\n",
    "    main()\n"
   ]
  },
  {
   "cell_type": "raw",
   "id": "2320f5f9-71dc-4882-94c4-ace85732fc6b",
   "metadata": {},
   "source": [
    "    1.  This code first imports the mysql.connector library. \n",
    "        This library provides a Python API for connecting to MySQL databases.\n",
    "      \n",
    "     2.connect_to_mysql() function connects to the MySQL database and returns a connection object.\n",
    "       The connection object is used to execute SQL queries. \n",
    "       \n",
    "       \n",
    "     3.xecute_query() function executes a SQL query and returns a cursor object.\n",
    "       The cursor object is used to fetch the results of the query.\n",
    "       \n",
    "       \n",
    "     4. main() function connects to the MySQL database and executes a query.\n",
    "        The query selects all rows from the customers table. The results of\n",
    "        the query are printed to the console.\n",
    "        \n",
    "        \n",
    "        \n",
    "        \n",
    "        The cursor() and execute() methods are used to execute SQL queries in Python.\n",
    "        The cursor() method creates a cursor object that can be used to execute queries.\n",
    "        The execute() method executes a SQL query and returns a result set.\n",
    "        The result set can be used to fetch the results of the query.\n",
    "      \n",
    "      "
   ]
  },
  {
   "cell_type": "raw",
   "id": "154fe6f7-9441-4df4-a1a8-9ed0ccd6dfd5",
   "metadata": {},
   "source": [
    "Q7. Give the order of execution of SQL clauses in an SQL query."
   ]
  },
  {
   "cell_type": "raw",
   "id": "c5ea2252-97bd-4a5d-a1b3-551e7aeb742b",
   "metadata": {},
   "source": [
    "    1. FROM: The FROM clause specifies the tables from which the data will be retrieved.\n",
    "       It identifies the source tables involved in the query.\n",
    "     \n",
    "    2.WHERE: The WHERE clause is used to filter the rows based on specified conditions.\n",
    "      It allows you to retrieve only the rows that satisfy the given conditions.\n",
    "      \n",
    "    3.GROUP BY: The GROUP BY clause is used to group rows together based on specified columns.\n",
    "      It is typically used in conjunction with aggregate functions like SUM, COUNT, AVG, etc.,\n",
    "      to perform calculations on grouped data.\n",
    "      \n",
    "    4.HAVING: The HAVING clause is used to filter the grouped rows based on conditions.\n",
    "      It works similar to the WHERE clause but operates on grouped data.\n",
    "      \n",
    "      \n",
    "    5.SELECT: The SELECT clause specifies the columns to be retrieved in the result set.\n",
    "      It determines the structure of the output and the columns that will be displayed\n",
    "      \n",
    "      \n",
    "    6.DISTINCT: The DISTINCT keyword is used to eliminate duplicate rows from the result set.\n",
    "      It ensures that each row in the output is unique.\n",
    "      \n",
    "    7.ORDER BY: The ORDER BY clause is used to sort the result set based on specified columns.\n",
    "      It allows you to arrange the rows in ascending or descending order.\n",
    "      \n",
    "    8.LIMIT/OFFSET: The LIMIT and OFFSET clauses are used for pagination purposes.\n",
    "      They limit the number of rows returned in the result set and allow you to skip a certain number of rows."
   ]
  }
 ],
 "metadata": {
  "kernelspec": {
   "display_name": "Python 3 (ipykernel)",
   "language": "python",
   "name": "python3"
  },
  "language_info": {
   "codemirror_mode": {
    "name": "ipython",
    "version": 3
   },
   "file_extension": ".py",
   "mimetype": "text/x-python",
   "name": "python",
   "nbconvert_exporter": "python",
   "pygments_lexer": "ipython3",
   "version": "3.10.6"
  }
 },
 "nbformat": 4,
 "nbformat_minor": 5
}
